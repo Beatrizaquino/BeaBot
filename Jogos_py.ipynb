{
  "nbformat": 4,
  "nbformat_minor": 0,
  "metadata": {
    "colab": {
      "provenance": [],
      "authorship_tag": "ABX9TyMU6xjsrnGzg30S+OwkS+1y",
      "include_colab_link": true
    },
    "kernelspec": {
      "name": "python3",
      "display_name": "Python 3"
    },
    "language_info": {
      "name": "python"
    }
  },
  "cells": [
    {
      "cell_type": "markdown",
      "metadata": {
        "id": "view-in-github",
        "colab_type": "text"
      },
      "source": [
        "<a href=\"https://colab.research.google.com/github/Beatrizaquino/BeaBot/blob/main/Jogos_py.ipynb\" target=\"_parent\"><img src=\"https://colab.research.google.com/assets/colab-badge.svg\" alt=\"Open In Colab\"/></a>"
      ]
    },
    {
      "cell_type": "code",
      "execution_count": 1,
      "metadata": {
        "id": "L-mZwzuZ0Xop",
        "colab": {
          "base_uri": "https://localhost:8080/"
        },
        "outputId": "741e07e4-2296-4ad8-feb4-93ed70d7d574"
      },
      "outputs": [
        {
          "output_type": "stream",
          "name": "stdout",
          "text": [
            "Digite uma senha: 1234\n",
            "A senha não pode ser menor que 8 caracteres\n",
            "Digite uma senha: 123456789\n",
            "A senha deve conter números e letras (Não apenas números ou apenas letras)\n",
            "Digite uma senha: qwerffsdA15\n",
            "Senha valida\n"
          ]
        }
      ],
      "source": [
        "#parametro findall retorna em forma de lista o valor encontrado por uma determinada regex dentro de uma string\n",
        "#Verificador de senha\n",
        "#Um sistema de login precisa de uma checagem para validar a entrada de senha\n",
        "#Existem várias regras a serem seguidas para que uma senha seja considerada válida\n",
        "\n",
        "\n",
        "\"\"\"Regras para sua senha\\n\"\n",
        "\"1.  A senha não pode ser uma senha comum: senha123, 12345678, password, 11111111, qwertyui\n",
        "2. A senha não pode ser menor que 8 caracteres\n",
        "3. A senha deve conter números e letras (Não apenas números ou apenas letras)\n",
        "4. A senha deve conter letras maiúsculas e minúsculas\\n\"\"\"\n",
        "\n",
        "while True:\n",
        "  #caracter_especial = [\"@\",\"!\",\"$\",\"#\",\"%\",\"&\",\"*\",\"(\",\")\"]\n",
        "  senha = str(input(\"Digite uma senha: \"))# converter para int\n",
        "  \n",
        "  #if len(caracter_especial) > 0:\n",
        "    #print(\"Senha valida!\")\n",
        "  #else:\n",
        "      #print(\"A senha não pode ser uma senha comum: senha123, 12345678, password, 11111111, qwertyui\")\n",
        "  if len(senha) < 7:\n",
        "    print(\"A senha não pode ser menor que 8 caracteres\")\n",
        "  elif senha.isalpha(): # verifica se todas as caracteres são letras\n",
        "    print(\"A senha deve conter números e letras (Não apenas números ou apenas letras)\")\n",
        "  elif senha.isdigit(): # verifica se todas as caracteres são numeros\n",
        "    print(\"A senha deve conter números e letras (Não apenas números ou apenas letras)\")\n",
        "  elif senha.isupper(): #verifica se todos os caracteres sao maiusculos\n",
        "    print(\" A senha deve conter letras maiúsculas e minúsculas\")\n",
        "  elif senha.islower(): # retorna a True se todas as caracteres estiverem em minusculo\n",
        "    print(\"A senha deve conter letras maiúsculas e minúsculas\")\n",
        "  else:\n",
        "    print(\"Senha valida\")\n",
        "    break\n",
        "\n",
        "\n",
        "    "
      ]
    },
    {
      "cell_type": "code",
      "source": [
        "#PERGUNTAS E RESPOSTAS\n",
        "\n",
        "acertos = 0\n",
        "erros = 0\n",
        "\n",
        "#iniciando as jogadas\n",
        "def jogada1():\n",
        "  while True:\n",
        "\n",
        "    resposta = [\"Carioca\", \"O carioca\", \"carioca\", \"O Carioca\"]\n",
        "\n",
        "    pergunta1 = input(\"O que é, o que é? Nasce no Rio, vive no Rio e morre no Rio, mas não está sempre molhado.\")\n",
        "\n",
        "    if pergunta1 == resposta :\n",
        "      print (\"Acertou\")\n",
        "      acertos += 1\n",
        "    else:\n",
        "      print(\"Você errou!\")\n",
        "      erros += 1\n",
        "      jogada1()\n",
        "      return pergunta1()\n",
        "    break\n",
        "\n",
        "def jogada2():\n",
        "  while True:\n",
        "\n",
        "    resposta2 = [\"A manga\", \"manga\", \"Manga\"]\n",
        "\n",
        "    pergunta2 = input(\" O que é, o que é? Tem pomar e no seu paletó.\")\n",
        "\n",
        "    if pergunta2 == resposta2 :\n",
        "      print (\"Acertou\")\n",
        "      acertos += 1\n",
        "    else:\n",
        "      print(\"Você errou!\")\n",
        "      erros += 1\n",
        "      jogada2()\n",
        "      return pergunta2()\n",
        "    break\n",
        "\n",
        "def jogada3():\n",
        "\n",
        "  while True:\n",
        "    resposta3 = [\"O rio\", \"rio\", \"Rio\", \"O Rio\"]\n",
        "\n",
        "    pergunta3 = input(\"O que é, o que é? Não tem pé e corre, tem leito e não dorme, quando para morre.\")\n",
        "\n",
        "    if pergunta3 == resposta3 :\n",
        "      print (\"Acertou\")\n",
        "      acertos += 1\n",
        "    else:\n",
        "      print(\"Você errou!\")\n",
        "      erros += 1\n",
        "      jogada3()\n",
        "      return pergunta3()\n",
        "    break\n",
        "\n",
        "\n",
        "print(f\"Você acertou {acertos}\\n\")  \n",
        "print(f\"Você errou {erros}\")\n",
        "\n"
      ],
      "metadata": {
        "id": "cjrOg39SN_C5"
      },
      "execution_count": 21,
      "outputs": []
    },
    {
      "cell_type": "code",
      "source": [],
      "metadata": {
        "id": "ZQ52_XiD48-x"
      },
      "execution_count": null,
      "outputs": []
    },
    {
      "cell_type": "code",
      "source": [
        "#JOGO DA FORCA\n",
        "\n",
        "#ESTABELECENDO AS NORMAS\n",
        "\n",
        "palavra = \"paralelepipedo\"\n",
        "digitos = [] #variavel que guarda os digitos do jogador\n",
        "chances = 6\n",
        "\n",
        "print(\"-\" * 25)\n",
        "print(\"** JOGO DA FORCA **\")\n",
        "print(\"-\"*25)\n",
        "\n",
        "#criando laço de repetição\n",
        "\n",
        "while True:\n",
        "\n",
        "  print(\"DICA: É um sólido geométrico\\n\")\n",
        "\n",
        "  letra = str(input(\"Digite uma letra:\\n\"))\n",
        "\n",
        "#não pode declarar mais que uma letra\n",
        "\n",
        "  if len(letra)> 1: #ler a letra\n",
        "    print (\"ERRO! Você não pode digitar mais de uma letra.\\n\")\n",
        "    continue # este codigo ficara abaixo da instrução de loop\n",
        "\n",
        "    digitos.append(letra) #append adiciona items a uma lista vazia, no caso ela ira adicionar as letras digitas no input\n",
        "\n",
        "#checkando as letras digitadas está na palavra secreta\n",
        "\n",
        "  check_palavra = ''\n",
        "  for check_letra in palavra:\n",
        "    if check_letra in letra:\n",
        "      check_palavra += check_letra\n",
        "    else:\n",
        "      check_palavra += '!'\n",
        "\n",
        "# a letra digitada é igual a palavra secreta?\n",
        "  if check_palavra == palavra:\n",
        "    print(f\"Você acertou! A palavra está {check_palavra}\")\n",
        "    break\n",
        "  else:\n",
        "    print(\"\\nVocê errou!\")\n",
        "\n",
        "#contabilizando os pontos\n",
        "\n",
        "  if letra not in palavra:\n",
        "    chances -= 1\n",
        "\n",
        "  if chances <=0:\n",
        "    print(\"Você perdeu!\")\n",
        "    break\n",
        "  print(f\"Você tem {chances} chances.\")\n",
        "\n",
        "\n",
        "\n"
      ],
      "metadata": {
        "id": "sw_VETCD5SJE",
        "outputId": "1f5f4b35-dd75-4ca7-b6c5-21259e7c40c6",
        "colab": {
          "base_uri": "https://localhost:8080/",
          "height": 588
        }
      },
      "execution_count": 33,
      "outputs": [
        {
          "output_type": "stream",
          "name": "stdout",
          "text": [
            "-------------------------\n",
            "** JOGO DA FORCA **\n",
            "-------------------------\n",
            "DICA: É um sólido geométrico\n",
            "\n",
            "Digite uma letra:\n",
            "l\n",
            "\n",
            "Você errou!\n",
            "Você tem 6 chances.\n",
            "DICA: É um sólido geométrico\n",
            "\n"
          ]
        },
        {
          "output_type": "error",
          "ename": "KeyboardInterrupt",
          "evalue": "ignored",
          "traceback": [
            "\u001b[0;31m---------------------------------------------------------------------------\u001b[0m",
            "\u001b[0;31mKeyboardInterrupt\u001b[0m                         Traceback (most recent call last)",
            "\u001b[0;32m<ipython-input-33-07efe4040de1>\u001b[0m in \u001b[0;36m<module>\u001b[0;34m\u001b[0m\n\u001b[1;32m     17\u001b[0m   \u001b[0mprint\u001b[0m\u001b[0;34m(\u001b[0m\u001b[0;34m\"DICA: É um sólido geométrico\\n\"\u001b[0m\u001b[0;34m)\u001b[0m\u001b[0;34m\u001b[0m\u001b[0;34m\u001b[0m\u001b[0m\n\u001b[1;32m     18\u001b[0m \u001b[0;34m\u001b[0m\u001b[0m\n\u001b[0;32m---> 19\u001b[0;31m   \u001b[0mletra\u001b[0m \u001b[0;34m=\u001b[0m \u001b[0mstr\u001b[0m\u001b[0;34m(\u001b[0m\u001b[0minput\u001b[0m\u001b[0;34m(\u001b[0m\u001b[0;34m\"Digite uma letra:\\n\"\u001b[0m\u001b[0;34m)\u001b[0m\u001b[0;34m)\u001b[0m\u001b[0;34m\u001b[0m\u001b[0;34m\u001b[0m\u001b[0m\n\u001b[0m\u001b[1;32m     20\u001b[0m \u001b[0;34m\u001b[0m\u001b[0m\n\u001b[1;32m     21\u001b[0m \u001b[0;31m#não pode declarar mais que uma letra\u001b[0m\u001b[0;34m\u001b[0m\u001b[0;34m\u001b[0m\u001b[0;34m\u001b[0m\u001b[0m\n",
            "\u001b[0;32m/usr/local/lib/python3.7/dist-packages/ipykernel/kernelbase.py\u001b[0m in \u001b[0;36mraw_input\u001b[0;34m(self, prompt)\u001b[0m\n\u001b[1;32m    861\u001b[0m             \u001b[0mself\u001b[0m\u001b[0;34m.\u001b[0m\u001b[0m_parent_ident\u001b[0m\u001b[0;34m,\u001b[0m\u001b[0;34m\u001b[0m\u001b[0;34m\u001b[0m\u001b[0m\n\u001b[1;32m    862\u001b[0m             \u001b[0mself\u001b[0m\u001b[0;34m.\u001b[0m\u001b[0m_parent_header\u001b[0m\u001b[0;34m,\u001b[0m\u001b[0;34m\u001b[0m\u001b[0;34m\u001b[0m\u001b[0m\n\u001b[0;32m--> 863\u001b[0;31m             \u001b[0mpassword\u001b[0m\u001b[0;34m=\u001b[0m\u001b[0;32mFalse\u001b[0m\u001b[0;34m,\u001b[0m\u001b[0;34m\u001b[0m\u001b[0;34m\u001b[0m\u001b[0m\n\u001b[0m\u001b[1;32m    864\u001b[0m         )\n\u001b[1;32m    865\u001b[0m \u001b[0;34m\u001b[0m\u001b[0m\n",
            "\u001b[0;32m/usr/local/lib/python3.7/dist-packages/ipykernel/kernelbase.py\u001b[0m in \u001b[0;36m_input_request\u001b[0;34m(self, prompt, ident, parent, password)\u001b[0m\n\u001b[1;32m    902\u001b[0m             \u001b[0;32mexcept\u001b[0m \u001b[0mKeyboardInterrupt\u001b[0m\u001b[0;34m:\u001b[0m\u001b[0;34m\u001b[0m\u001b[0;34m\u001b[0m\u001b[0m\n\u001b[1;32m    903\u001b[0m                 \u001b[0;31m# re-raise KeyboardInterrupt, to truncate traceback\u001b[0m\u001b[0;34m\u001b[0m\u001b[0;34m\u001b[0m\u001b[0;34m\u001b[0m\u001b[0m\n\u001b[0;32m--> 904\u001b[0;31m                 \u001b[0;32mraise\u001b[0m \u001b[0mKeyboardInterrupt\u001b[0m\u001b[0;34m(\u001b[0m\u001b[0;34m\"Interrupted by user\"\u001b[0m\u001b[0;34m)\u001b[0m \u001b[0;32mfrom\u001b[0m \u001b[0;32mNone\u001b[0m\u001b[0;34m\u001b[0m\u001b[0;34m\u001b[0m\u001b[0m\n\u001b[0m\u001b[1;32m    905\u001b[0m             \u001b[0;32mexcept\u001b[0m \u001b[0mException\u001b[0m \u001b[0;32mas\u001b[0m \u001b[0me\u001b[0m\u001b[0;34m:\u001b[0m\u001b[0;34m\u001b[0m\u001b[0;34m\u001b[0m\u001b[0m\n\u001b[1;32m    906\u001b[0m                 \u001b[0mself\u001b[0m\u001b[0;34m.\u001b[0m\u001b[0mlog\u001b[0m\u001b[0;34m.\u001b[0m\u001b[0mwarning\u001b[0m\u001b[0;34m(\u001b[0m\u001b[0;34m\"Invalid Message:\"\u001b[0m\u001b[0;34m,\u001b[0m \u001b[0mexc_info\u001b[0m\u001b[0;34m=\u001b[0m\u001b[0;32mTrue\u001b[0m\u001b[0;34m)\u001b[0m\u001b[0;34m\u001b[0m\u001b[0;34m\u001b[0m\u001b[0m\n",
            "\u001b[0;31mKeyboardInterrupt\u001b[0m: Interrupted by user"
          ]
        }
      ]
    },
    {
      "cell_type": "code",
      "source": [
        "#PERGUNTAS E RESPOSTAS\n",
        "\"\"\" 1 = carioca\"\"\"\n",
        "\n",
        "acertos = 0\n",
        "erros = 0\n",
        "\n",
        "def jogador():\n",
        "  pergunta = input(\"O que é, o que é? Nasce no Rio, vive no Rio e morre no Rio, mas não está sempre molhado.\")\n",
        "  if pergunta in [\"Carioca\", \"O carioca\", \"carioca\", \"O Carioca\"]:\n",
        "    pergunta = \"O Carioca\"\n",
        "    print (\"Acertou\")\n",
        "  else:\n",
        "    print(\"Você errou!\")\n",
        "    return pergunta()\n",
        "\n",
        "    \n",
        "\n",
        "\n"
      ],
      "metadata": {
        "id": "jNyvqqKBrumz"
      },
      "execution_count": 17,
      "outputs": []
    },
    {
      "cell_type": "code",
      "source": [
        "from random import choice \n",
        "import time\n",
        "comp_vitoria = 0\n",
        "jogador_vitoria = 0\n",
        "empate = 0\n",
        "\n",
        "#HISTÓRIA\n",
        "print(\"Olá mero mortal!\")\n",
        "time.sleep(1.9)\n",
        "nome = input(\"\\nComo devo lhe chamar? \")\n",
        "time.sleep(1.8)\n",
        "print(\"\\nNão importa! Irei chamar de jogador!\")\n",
        "time.sleep(1.5)\n",
        "print(\"\\nEste é meu reino, se você quiser sobreviver terá que jogar!\\n\")\n",
        "time.sleep(0.5)\n",
        "  \n",
        "\n",
        "#Declarando possibilidades do jogador\n",
        "def jogador_opcao():\n",
        "  esc_jogador = input(\"Escolha Pedra, Papel ou Tesoura: \")\n",
        "  if esc_jogador in [\"Pedra\", \"pedra\", \"PEDRA\"]:\n",
        "    esc_jogador = \"Pedra\"\n",
        "  elif esc_jogador in [\"Papel\",\"papel\",\"PAPEL\"]:\n",
        "    esc_jogador = \"Papel\"\n",
        "  elif esc_jogador in [\"Tesoura\",\"tesoura\",\"TESOURA\"]:\n",
        "    esc_jogador = \"Tesoura\"\n",
        "  else:\n",
        "    print(\"Opção invalida! Escolha um opção valida.\")\n",
        "    jogador_opcao()\n",
        "  return esc_jogador\n",
        "\n",
        "#Declarando possibilidades do computador\n",
        "def computador_opcao():\n",
        "  esc_computador = choice([\"Pedra\",\"Papel\",\"Tesoura\"])\n",
        "  return esc_computador\n",
        "\n",
        "#iniciando o jogo\n",
        "while True:\n",
        "  print(\"-------------\")\n",
        "\n",
        "  esc_computador = computador_opcao()\n",
        "  esc_jogador = jogador_opcao()\n",
        "\n",
        "#possibilidades de jogada\n",
        "  print(\"-------------\")\n",
        "  if ((esc_jogador == \"Pedra\") and (esc_computador == \"Pedra\")) or ((esc_jogador == \"Papel\") and (esc_computador == \"Papel\")) or ((esc_jogador == \"Tesoura\") and (esc_computador == \"Tesoura\")):\n",
        "      print(f\"O jogador escolheu {esc_jogador} e o computador escolheu {esc_computador}.\\n- Resultado: EMPATE!\")\n",
        "      empate +=1\n",
        "  elif ((esc_jogador == \"Papel\") and (esc_computador == \"Pedra\")) or ((esc_jogador == \"Pedra\" and esc_computador == \"Tesoura\")) or ((esc_jogador == \"Tesoura\") and (esc_computador == \"Papel\")):\n",
        "    print (f\"\\nJogador escolheu {esc_jogador} e a maquina escolheu {esc_computador} \\n- Resultado: Você Ganhou!\")\n",
        "    jogador_vitoria = jogador_vitoria + 1\n",
        "  else:\n",
        "     print(f\"Jogador escolheu {esc_jogador} e o computador escolheu {esc_computador} \\n- Resultado: A Máquina Venceu!\")\n",
        "     comp_vitoria = comp_vitoria + 1\n",
        "#mostrando os resultados\n",
        "  print(\"------------\")\n",
        "  print(f\"Vitorias do Jogador: {jogador_vitoria}\")\n",
        "  print(f\"Vitorias do Computador: {comp_vitoria}\")\n",
        "  print(f\"Empates: {empate}\")\n",
        "  print(\"------------\")\n",
        "\n",
        "  esc_jogador = input(\"Você deseja contnuar jogando? (S/N)\")\n",
        "  if esc_jogador in [\"Sim\", \"sim\",\"s\",\"S\"]:\n",
        "    pass\n",
        "  elif esc_jogador in [\"Não\",\"Nao\",\"nao\",\"N\",\"n\"]:\n",
        "    break\n",
        "  else:\n",
        "    print(\"/n**FIM**\")\n",
        "    break"
      ],
      "metadata": {
        "id": "rmee2nThtCCy"
      },
      "execution_count": null,
      "outputs": []
    },
    {
      "cell_type": "code",
      "source": [
        "from PIL import Image\n",
        "\n",
        "imagenm = Image.open()"
      ],
      "metadata": {
        "id": "upimMMQhHnTS"
      },
      "execution_count": null,
      "outputs": []
    }
  ]
}